{
 "cells": [
  {
   "cell_type": "markdown",
   "metadata": {},
   "source": [
    "# Zadanie 1"
   ]
  },
  {
   "cell_type": "markdown",
   "metadata": {},
   "source": [
    "**Opis Zadania**\n",
    "\n",
    "Proszę napisad program rozwiązujący układ równań: \n",
    "Ax+By=C\n",
    "Dx+Ey=F\n",
    "\n",
    "Współczynniki A,B,C,D,E,F należy prowadzid z klawiatury.\n",
    "Program powinien uwzględnid przypadki układu nieoznaczonego i sprzecznego."
   ]
  },
  {
   "cell_type": "markdown",
   "metadata": {},
   "source": [
    "**Opis rozwiązania**\n",
    "\n",
    "Rozwiązanie opiera się o rachunek macierzowy.\n",
    "Warunki rozwiązania w oparciu o informację na temat rzędu macierzy\n",
    "```python\n",
    "if rzad_macierzy_glownej == rzad_macierzy_rozszerzonej==liczba_niewiadomych:\n",
    "    Rownanie ma jedno rozwiazanie\n",
    "elif rzad_macierzy_glownej == rzad_macierzy_rozszerzonej<liczba_niewiadomych:\n",
    "    Równanie ma nieskończenie wiele rozwiązań\n",
    "else\n",
    "    Rówananie jest równaniem sprzecznym\n",
    "```"
   ]
  },
  {
   "cell_type": "code",
   "execution_count": 8,
   "metadata": {
    "collapsed": true
   },
   "outputs": [],
   "source": [
    "import math\n",
    "import numpy as np\n",
    "def LinearEquations():\n",
    "    print(\"Program rozwiazujacy uklad rownan w postaci:\\nAx + By = C\\nDx + Ey = F\")\n",
    "    A=float(input(\"Podaj A= \"))\n",
    "    B=float(input(\"Podaj B= \"))\n",
    "    C=float(input(\"Podaj C= \"))\n",
    "    D=float(input(\"Podaj D= \"))\n",
    "    E=float(input(\"Podaj E= \"))\n",
    "    F=float(input(\"Podaj F= \"))\n",
    "    #Obliczenie rzędu macierzy głownej\n",
    "    a = np.array([[A, B],[D,E]])\n",
    "    #Obliczenie rzędu macierzy rozszerzonej\n",
    "    a_uzup=np.array([[A,B,C],[D,E,F]])\n",
    "    b = np.array([C, F])\n",
    "    if np.linalg.matrix_rank(a)==np.linalg.matrix_rank(a_uzup)==2:\n",
    "        print(\"Równanie ma jedno rozwiązanie\")\n",
    "        sol=(np.linalg.solve(a,b))\n",
    "        print('x = %5.2f , y = %5.2f' % (sol[0], sol[1]))\n",
    "    elif np.linalg.matrix_rank(a)==np.linalg.matrix_rank(a_uzup)<2:\n",
    "        print(\"Układ ma nieskończenie wiele rozwiązań\")\n",
    "    else:\n",
    "        print(\"Układ równań jest układem sprzecznym\")\n",
    "    return"
   ]
  },
  {
   "cell_type": "markdown",
   "metadata": {},
   "source": [
    "Przykład: Układ ma dokładnie jedno rozwiązanie."
   ]
  },
  {
   "cell_type": "code",
   "execution_count": 9,
   "metadata": {
    "collapsed": false
   },
   "outputs": [
    {
     "name": "stdout",
     "output_type": "stream",
     "text": [
      "Program rozwiazujacy uklad rownan w postaci:\n",
      "Ax + By = C\n",
      "Dx + Ey = F\n",
      "Podaj A= \n"
     ]
    },
    {
     "ename": "ValueError",
     "evalue": "could not convert string to float: ",
     "output_type": "error",
     "traceback": [
      "\u001b[1;31m---------------------------------------------------------------------------\u001b[0m",
      "\u001b[1;31mValueError\u001b[0m                                Traceback (most recent call last)",
      "\u001b[1;32m<ipython-input-9-6202bad58a4f>\u001b[0m in \u001b[0;36m<module>\u001b[1;34m()\u001b[0m\n\u001b[1;32m----> 1\u001b[1;33m \u001b[0mLinearEquations\u001b[0m\u001b[1;33m(\u001b[0m\u001b[1;33m)\u001b[0m\u001b[1;33m\u001b[0m\u001b[0m\n\u001b[0m",
      "\u001b[1;32m<ipython-input-8-b00cbadf84ce>\u001b[0m in \u001b[0;36mLinearEquations\u001b[1;34m()\u001b[0m\n\u001b[0;32m      3\u001b[0m \u001b[1;32mdef\u001b[0m \u001b[0mLinearEquations\u001b[0m\u001b[1;33m(\u001b[0m\u001b[1;33m)\u001b[0m\u001b[1;33m:\u001b[0m\u001b[1;33m\u001b[0m\u001b[0m\n\u001b[0;32m      4\u001b[0m     \u001b[0mprint\u001b[0m\u001b[1;33m(\u001b[0m\u001b[1;34m\"Program rozwiazujacy uklad rownan w postaci:\\nAx + By = C\\nDx + Ey = F\"\u001b[0m\u001b[1;33m)\u001b[0m\u001b[1;33m\u001b[0m\u001b[0m\n\u001b[1;32m----> 5\u001b[1;33m     \u001b[0mA\u001b[0m\u001b[1;33m=\u001b[0m\u001b[0mfloat\u001b[0m\u001b[1;33m(\u001b[0m\u001b[0minput\u001b[0m\u001b[1;33m(\u001b[0m\u001b[1;34m\"Podaj A= \"\u001b[0m\u001b[1;33m)\u001b[0m\u001b[1;33m)\u001b[0m\u001b[1;33m\u001b[0m\u001b[0m\n\u001b[0m\u001b[0;32m      6\u001b[0m     \u001b[0mB\u001b[0m\u001b[1;33m=\u001b[0m\u001b[0mfloat\u001b[0m\u001b[1;33m(\u001b[0m\u001b[0minput\u001b[0m\u001b[1;33m(\u001b[0m\u001b[1;34m\"Podaj B= \"\u001b[0m\u001b[1;33m)\u001b[0m\u001b[1;33m)\u001b[0m\u001b[1;33m\u001b[0m\u001b[0m\n\u001b[0;32m      7\u001b[0m     \u001b[0mC\u001b[0m\u001b[1;33m=\u001b[0m\u001b[0mfloat\u001b[0m\u001b[1;33m(\u001b[0m\u001b[0minput\u001b[0m\u001b[1;33m(\u001b[0m\u001b[1;34m\"Podaj C= \"\u001b[0m\u001b[1;33m)\u001b[0m\u001b[1;33m)\u001b[0m\u001b[1;33m\u001b[0m\u001b[0m\n",
      "\u001b[1;31mValueError\u001b[0m: could not convert string to float: "
     ]
    }
   ],
   "source": [
    "LinearEquations()"
   ]
  },
  {
   "cell_type": "markdown",
   "metadata": {},
   "source": [
    "Przykład: Układ ma nieskończenie wiele rozwiązań"
   ]
  },
  {
   "cell_type": "code",
   "execution_count": 11,
   "metadata": {
    "collapsed": false
   },
   "outputs": [
    {
     "name": "stdout",
     "output_type": "stream",
     "text": [
      "Program rozwiazujacy uklad rownan w postaci:\n",
      "Ax + By = C\n",
      "Dx + Ey = F\n",
      "Podaj A= \n"
     ]
    },
    {
     "ename": "ValueError",
     "evalue": "could not convert string to float: ",
     "output_type": "error",
     "traceback": [
      "\u001b[1;31m---------------------------------------------------------------------------\u001b[0m",
      "\u001b[1;31mValueError\u001b[0m                                Traceback (most recent call last)",
      "\u001b[1;32m<ipython-input-11-6202bad58a4f>\u001b[0m in \u001b[0;36m<module>\u001b[1;34m()\u001b[0m\n\u001b[1;32m----> 1\u001b[1;33m \u001b[0mLinearEquations\u001b[0m\u001b[1;33m(\u001b[0m\u001b[1;33m)\u001b[0m\u001b[1;33m\u001b[0m\u001b[0m\n\u001b[0m",
      "\u001b[1;32m<ipython-input-8-b00cbadf84ce>\u001b[0m in \u001b[0;36mLinearEquations\u001b[1;34m()\u001b[0m\n\u001b[0;32m      3\u001b[0m \u001b[1;32mdef\u001b[0m \u001b[0mLinearEquations\u001b[0m\u001b[1;33m(\u001b[0m\u001b[1;33m)\u001b[0m\u001b[1;33m:\u001b[0m\u001b[1;33m\u001b[0m\u001b[0m\n\u001b[0;32m      4\u001b[0m     \u001b[0mprint\u001b[0m\u001b[1;33m(\u001b[0m\u001b[1;34m\"Program rozwiazujacy uklad rownan w postaci:\\nAx + By = C\\nDx + Ey = F\"\u001b[0m\u001b[1;33m)\u001b[0m\u001b[1;33m\u001b[0m\u001b[0m\n\u001b[1;32m----> 5\u001b[1;33m     \u001b[0mA\u001b[0m\u001b[1;33m=\u001b[0m\u001b[0mfloat\u001b[0m\u001b[1;33m(\u001b[0m\u001b[0minput\u001b[0m\u001b[1;33m(\u001b[0m\u001b[1;34m\"Podaj A= \"\u001b[0m\u001b[1;33m)\u001b[0m\u001b[1;33m)\u001b[0m\u001b[1;33m\u001b[0m\u001b[0m\n\u001b[0m\u001b[0;32m      6\u001b[0m     \u001b[0mB\u001b[0m\u001b[1;33m=\u001b[0m\u001b[0mfloat\u001b[0m\u001b[1;33m(\u001b[0m\u001b[0minput\u001b[0m\u001b[1;33m(\u001b[0m\u001b[1;34m\"Podaj B= \"\u001b[0m\u001b[1;33m)\u001b[0m\u001b[1;33m)\u001b[0m\u001b[1;33m\u001b[0m\u001b[0m\n\u001b[0;32m      7\u001b[0m     \u001b[0mC\u001b[0m\u001b[1;33m=\u001b[0m\u001b[0mfloat\u001b[0m\u001b[1;33m(\u001b[0m\u001b[0minput\u001b[0m\u001b[1;33m(\u001b[0m\u001b[1;34m\"Podaj C= \"\u001b[0m\u001b[1;33m)\u001b[0m\u001b[1;33m)\u001b[0m\u001b[1;33m\u001b[0m\u001b[0m\n",
      "\u001b[1;31mValueError\u001b[0m: could not convert string to float: "
     ]
    }
   ],
   "source": [
    "LinearEquations()"
   ]
  },
  {
   "cell_type": "markdown",
   "metadata": {},
   "source": [
    "Przykład: Układ jest układem sprzecznym"
   ]
  },
  {
   "cell_type": "code",
   "execution_count": 12,
   "metadata": {
    "collapsed": false
   },
   "outputs": [
    {
     "name": "stdout",
     "output_type": "stream",
     "text": [
      "Program rozwiazujacy uklad rownan w postaci:\n",
      "Ax + By = C\n",
      "Dx + Ey = F\n",
      "Podaj A= \n"
     ]
    },
    {
     "ename": "ValueError",
     "evalue": "could not convert string to float: ",
     "output_type": "error",
     "traceback": [
      "\u001b[1;31m---------------------------------------------------------------------------\u001b[0m",
      "\u001b[1;31mValueError\u001b[0m                                Traceback (most recent call last)",
      "\u001b[1;32m<ipython-input-12-6202bad58a4f>\u001b[0m in \u001b[0;36m<module>\u001b[1;34m()\u001b[0m\n\u001b[1;32m----> 1\u001b[1;33m \u001b[0mLinearEquations\u001b[0m\u001b[1;33m(\u001b[0m\u001b[1;33m)\u001b[0m\u001b[1;33m\u001b[0m\u001b[0m\n\u001b[0m",
      "\u001b[1;32m<ipython-input-8-b00cbadf84ce>\u001b[0m in \u001b[0;36mLinearEquations\u001b[1;34m()\u001b[0m\n\u001b[0;32m      3\u001b[0m \u001b[1;32mdef\u001b[0m \u001b[0mLinearEquations\u001b[0m\u001b[1;33m(\u001b[0m\u001b[1;33m)\u001b[0m\u001b[1;33m:\u001b[0m\u001b[1;33m\u001b[0m\u001b[0m\n\u001b[0;32m      4\u001b[0m     \u001b[0mprint\u001b[0m\u001b[1;33m(\u001b[0m\u001b[1;34m\"Program rozwiazujacy uklad rownan w postaci:\\nAx + By = C\\nDx + Ey = F\"\u001b[0m\u001b[1;33m)\u001b[0m\u001b[1;33m\u001b[0m\u001b[0m\n\u001b[1;32m----> 5\u001b[1;33m     \u001b[0mA\u001b[0m\u001b[1;33m=\u001b[0m\u001b[0mfloat\u001b[0m\u001b[1;33m(\u001b[0m\u001b[0minput\u001b[0m\u001b[1;33m(\u001b[0m\u001b[1;34m\"Podaj A= \"\u001b[0m\u001b[1;33m)\u001b[0m\u001b[1;33m)\u001b[0m\u001b[1;33m\u001b[0m\u001b[0m\n\u001b[0m\u001b[0;32m      6\u001b[0m     \u001b[0mB\u001b[0m\u001b[1;33m=\u001b[0m\u001b[0mfloat\u001b[0m\u001b[1;33m(\u001b[0m\u001b[0minput\u001b[0m\u001b[1;33m(\u001b[0m\u001b[1;34m\"Podaj B= \"\u001b[0m\u001b[1;33m)\u001b[0m\u001b[1;33m)\u001b[0m\u001b[1;33m\u001b[0m\u001b[0m\n\u001b[0;32m      7\u001b[0m     \u001b[0mC\u001b[0m\u001b[1;33m=\u001b[0m\u001b[0mfloat\u001b[0m\u001b[1;33m(\u001b[0m\u001b[0minput\u001b[0m\u001b[1;33m(\u001b[0m\u001b[1;34m\"Podaj C= \"\u001b[0m\u001b[1;33m)\u001b[0m\u001b[1;33m)\u001b[0m\u001b[1;33m\u001b[0m\u001b[0m\n",
      "\u001b[1;31mValueError\u001b[0m: could not convert string to float: "
     ]
    }
   ],
   "source": [
    "LinearEquations()"
   ]
  },
  {
   "cell_type": "markdown",
   "metadata": {},
   "source": [
    "# Zadanie 2"
   ]
  },
  {
   "cell_type": "markdown",
   "metadata": {},
   "source": [
    "**Opis Zadania**\n",
    "\n",
    "Liczby Armstronga to N-cyfrowa liczba naturalna która jest sumą swoich cyfr podniesionych do potęgi N. \n",
    "\n",
    "Na przykład: 153 = $1^3$+$5^3$+$3^3$. \n",
    "\n",
    "Proszę napisać program znajdujący jak najwięcej takich liczb."
   ]
  },
  {
   "cell_type": "markdown",
   "metadata": {},
   "source": [
    "**Opis rozwiązania**\n",
    "\n",
    "Komentarze w kodzie programu\n"
   ]
  },
  {
   "cell_type": "code",
   "execution_count": 13,
   "metadata": {
    "collapsed": true
   },
   "outputs": [],
   "source": [
    "def ArmstrongNum(num):\n",
    "    #Inicjalizacja tabeli wyników\n",
    "    res_table=[]\n",
    "    for num in range(1, num + 1):\n",
    "        #Obliczenie wartości potęgi (długość stringa; liczba rzutowana na string)\n",
    "        order = len(str(num))\n",
    "        #Inicjalizacja wartości sumy\n",
    "        sum = 0\n",
    "        temp = num\n",
    "        while temp > 0:\n",
    "            digit = temp % 10\n",
    "            sum =sum+digit ** order\n",
    "            temp =temp//10\n",
    "        if num == sum:\n",
    "            res_table.append(num)\n",
    "    return print(\"Liczby Armstronga: \",res_table)"
   ]
  },
  {
   "cell_type": "code",
   "execution_count": 14,
   "metadata": {
    "collapsed": false
   },
   "outputs": [
    {
     "name": "stdout",
     "output_type": "stream",
     "text": [
      "Liczby Armstronga:  [1, 2, 3, 4, 5, 6, 7, 8, 9, 153, 370, 371, 407]\n"
     ]
    }
   ],
   "source": [
    "ArmstrongNum(1000)"
   ]
  },
  {
   "cell_type": "markdown",
   "metadata": {},
   "source": [
    "# Zadanie 3"
   ]
  },
  {
   "cell_type": "markdown",
   "metadata": {},
   "source": [
    "**Opis zadania**\n",
    "\n",
    "Palindrom to coś, co czyta się tak samo od przodu i od tyłu. Hipoteza: weź dowolną liczbę naturalną. Jeżeli nie jest palindromem, to zapisz ją od tyłu i dodaj obie liczby. Jeżeli wynik nadal nie jest palindromem, kontynuuj, traktując go jako daną. Przerwij, gdy osiągniesz palindrom. Na przykład: 78+87=165, 165+561=726, 726+627=1353, 1353+3531=4884. Napisz program sprawdzający hipotezę dla pierwszych 200 liczb naturalnych jako startowych. Czy zawsze osiągniemy palindrom?"
   ]
  },
  {
   "cell_type": "markdown",
   "metadata": {},
   "source": [
    "**Opis rozwiązania**\n",
    "\n",
    "Czy zawsze osiągniemy Palindrom? Na to pytanie nie ma jednoznaczniej odpowiedzi. Opisana hipoteza/proces to tzw. \"Opóźniony palidrom\" (eng. delayed palindrom). Przykładem jest liczba 196, która po 70 000 000 iteracji nie zwraca liczby palindromicznej. Stąd też w załączonym kodzie funkcja szukajaca liczby palindromicznej przyjmuje dwa argumenty: maksymalna wartosc liczby startowej oraz maksymalna liczba iteracji.\n",
    "```python\n",
    "def findPalindrome(number,max_iter)\n",
    "```\n",
    "Zastosowanie pętli:\n",
    "```python\n",
    "while True:\n",
    "```\n",
    "skutkować może w niektórych przypadkach bardzo długim (\"nieskończonym\") czasem oczekiwania na wynik obliczeń.\n",
    "\n",
    "**Opis programu:** komentarze w kodzie\n"
   ]
  },
  {
   "cell_type": "code",
   "execution_count": 15,
   "metadata": {
    "collapsed": true
   },
   "outputs": [],
   "source": [
    "#Funkcja tworzy palindrom z zadanej liczby\n",
    "def revNumber(num):\n",
    "    return int(str(num)[::-1])\n",
    "\n",
    "#Funkcja sprawdza czy liczba to palindom. Jeżeli jest zwraca True\n",
    "def isPalindrome(num):\n",
    "    return num==revNumber(num)\n",
    "\n",
    "#Funkcja oblicza palindrom dla zadanej liczby startowej oraz maksymalnej liczbie iteracji  \n",
    "def findPalindrome(number,max_iter):\n",
    "    for num in range(0,number+1):\n",
    "        #Inicjalizacja licznika iteracji\n",
    "        count=0\n",
    "        #Inicjalizacja palindromu\n",
    "        rev_num=0\n",
    "        #Inicjalizacja sumy\n",
    "        sum=num\n",
    "        rev_num = revNumber(num)\n",
    "        #Szukaj sumy, sprawdź czy jest palidromem dopóki count<max_iter. Jeżeli isPalindrome(sum)-->true\n",
    "        # wypisz: liczbe startowa, liczbe iteracji, palindrom\n",
    "        #jezeli przekroczysz liczbe iteracji\n",
    "        #wypisz: liczbe startowa, ostatnią policzoną sumę\n",
    "        while (count<max_iter) :\n",
    "            count+=1\n",
    "            rev_num = revNumber(sum)\n",
    "            sum=sum+rev_num\n",
    "            if(isPalindrome(sum)):\n",
    "                print(\"Starting point: %i, Iteration number: %i, Palindrome: %i\" % (num,count, sum))\n",
    "                break\n",
    "            elif(count>=max_iter):\n",
    "                print(\"FAILED. Starting point %i, Last iterated sum: %i\"% (num,sum))\n",
    "    return"
   ]
  },
  {
   "cell_type": "markdown",
   "metadata": {},
   "source": [
    "**Przykładowy output**\n",
    "\n",
    "Znajdź dla pierwszych 200 liczb naturalnych, gdzie maksymalna liczba iteracji wynosi 1000."
   ]
  },
  {
   "cell_type": "code",
   "execution_count": 16,
   "metadata": {
    "collapsed": false
   },
   "outputs": [
    {
     "name": "stdout",
     "output_type": "stream",
     "text": [
      "Starting point: 0, Iteration number: 1, Palindrome: 0\n",
      "Starting point: 1, Iteration number: 1, Palindrome: 2\n",
      "Starting point: 2, Iteration number: 1, Palindrome: 4\n",
      "Starting point: 3, Iteration number: 1, Palindrome: 6\n",
      "Starting point: 4, Iteration number: 1, Palindrome: 8\n",
      "Starting point: 5, Iteration number: 2, Palindrome: 11\n",
      "Starting point: 6, Iteration number: 2, Palindrome: 33\n",
      "Starting point: 7, Iteration number: 2, Palindrome: 55\n",
      "Starting point: 8, Iteration number: 2, Palindrome: 77\n",
      "Starting point: 9, Iteration number: 2, Palindrome: 99\n",
      "Starting point: 10, Iteration number: 1, Palindrome: 11\n",
      "Starting point: 11, Iteration number: 1, Palindrome: 22\n",
      "Starting point: 12, Iteration number: 1, Palindrome: 33\n",
      "Starting point: 13, Iteration number: 1, Palindrome: 44\n",
      "Starting point: 14, Iteration number: 1, Palindrome: 55\n",
      "Starting point: 15, Iteration number: 1, Palindrome: 66\n",
      "Starting point: 16, Iteration number: 1, Palindrome: 77\n",
      "Starting point: 17, Iteration number: 1, Palindrome: 88\n",
      "Starting point: 18, Iteration number: 1, Palindrome: 99\n",
      "Starting point: 19, Iteration number: 2, Palindrome: 121\n",
      "Starting point: 20, Iteration number: 1, Palindrome: 22\n",
      "Starting point: 21, Iteration number: 1, Palindrome: 33\n",
      "Starting point: 22, Iteration number: 1, Palindrome: 44\n",
      "Starting point: 23, Iteration number: 1, Palindrome: 55\n",
      "Starting point: 24, Iteration number: 1, Palindrome: 66\n",
      "Starting point: 25, Iteration number: 1, Palindrome: 77\n",
      "Starting point: 26, Iteration number: 1, Palindrome: 88\n",
      "Starting point: 27, Iteration number: 1, Palindrome: 99\n",
      "Starting point: 28, Iteration number: 2, Palindrome: 121\n",
      "Starting point: 29, Iteration number: 1, Palindrome: 121\n",
      "Starting point: 30, Iteration number: 1, Palindrome: 33\n",
      "Starting point: 31, Iteration number: 1, Palindrome: 44\n",
      "Starting point: 32, Iteration number: 1, Palindrome: 55\n",
      "Starting point: 33, Iteration number: 1, Palindrome: 66\n",
      "Starting point: 34, Iteration number: 1, Palindrome: 77\n",
      "Starting point: 35, Iteration number: 1, Palindrome: 88\n",
      "Starting point: 36, Iteration number: 1, Palindrome: 99\n",
      "Starting point: 37, Iteration number: 2, Palindrome: 121\n",
      "Starting point: 38, Iteration number: 1, Palindrome: 121\n",
      "Starting point: 39, Iteration number: 2, Palindrome: 363\n",
      "Starting point: 40, Iteration number: 1, Palindrome: 44\n",
      "Starting point: 41, Iteration number: 1, Palindrome: 55\n",
      "Starting point: 42, Iteration number: 1, Palindrome: 66\n",
      "Starting point: 43, Iteration number: 1, Palindrome: 77\n",
      "Starting point: 44, Iteration number: 1, Palindrome: 88\n",
      "Starting point: 45, Iteration number: 1, Palindrome: 99\n",
      "Starting point: 46, Iteration number: 2, Palindrome: 121\n",
      "Starting point: 47, Iteration number: 1, Palindrome: 121\n",
      "Starting point: 48, Iteration number: 2, Palindrome: 363\n",
      "Starting point: 49, Iteration number: 2, Palindrome: 484\n",
      "Starting point: 50, Iteration number: 1, Palindrome: 55\n",
      "Starting point: 51, Iteration number: 1, Palindrome: 66\n",
      "Starting point: 52, Iteration number: 1, Palindrome: 77\n",
      "Starting point: 53, Iteration number: 1, Palindrome: 88\n",
      "Starting point: 54, Iteration number: 1, Palindrome: 99\n",
      "Starting point: 55, Iteration number: 2, Palindrome: 121\n",
      "Starting point: 56, Iteration number: 1, Palindrome: 121\n",
      "Starting point: 57, Iteration number: 2, Palindrome: 363\n",
      "Starting point: 58, Iteration number: 2, Palindrome: 484\n",
      "Starting point: 59, Iteration number: 3, Palindrome: 1111\n",
      "Starting point: 60, Iteration number: 1, Palindrome: 66\n",
      "Starting point: 61, Iteration number: 1, Palindrome: 77\n",
      "Starting point: 62, Iteration number: 1, Palindrome: 88\n",
      "Starting point: 63, Iteration number: 1, Palindrome: 99\n",
      "Starting point: 64, Iteration number: 2, Palindrome: 121\n",
      "Starting point: 65, Iteration number: 1, Palindrome: 121\n",
      "Starting point: 66, Iteration number: 2, Palindrome: 363\n",
      "Starting point: 67, Iteration number: 2, Palindrome: 484\n",
      "Starting point: 68, Iteration number: 3, Palindrome: 1111\n",
      "Starting point: 69, Iteration number: 4, Palindrome: 4884\n",
      "Starting point: 70, Iteration number: 1, Palindrome: 77\n",
      "Starting point: 71, Iteration number: 1, Palindrome: 88\n",
      "Starting point: 72, Iteration number: 1, Palindrome: 99\n",
      "Starting point: 73, Iteration number: 2, Palindrome: 121\n",
      "Starting point: 74, Iteration number: 1, Palindrome: 121\n",
      "Starting point: 75, Iteration number: 2, Palindrome: 363\n",
      "Starting point: 76, Iteration number: 2, Palindrome: 484\n",
      "Starting point: 77, Iteration number: 3, Palindrome: 1111\n",
      "Starting point: 78, Iteration number: 4, Palindrome: 4884\n",
      "Starting point: 79, Iteration number: 6, Palindrome: 44044\n",
      "Starting point: 80, Iteration number: 1, Palindrome: 88\n",
      "Starting point: 81, Iteration number: 1, Palindrome: 99\n",
      "Starting point: 82, Iteration number: 2, Palindrome: 121\n",
      "Starting point: 83, Iteration number: 1, Palindrome: 121\n",
      "Starting point: 84, Iteration number: 2, Palindrome: 363\n",
      "Starting point: 85, Iteration number: 2, Palindrome: 484\n",
      "Starting point: 86, Iteration number: 3, Palindrome: 1111\n",
      "Starting point: 87, Iteration number: 4, Palindrome: 4884\n",
      "Starting point: 88, Iteration number: 6, Palindrome: 44044\n",
      "Starting point: 89, Iteration number: 24, Palindrome: 8813200023188\n",
      "Starting point: 90, Iteration number: 1, Palindrome: 99\n",
      "Starting point: 91, Iteration number: 2, Palindrome: 121\n",
      "Starting point: 92, Iteration number: 1, Palindrome: 121\n",
      "Starting point: 93, Iteration number: 2, Palindrome: 363\n",
      "Starting point: 94, Iteration number: 2, Palindrome: 484\n",
      "Starting point: 95, Iteration number: 3, Palindrome: 1111\n",
      "Starting point: 96, Iteration number: 4, Palindrome: 4884\n",
      "Starting point: 97, Iteration number: 6, Palindrome: 44044\n",
      "Starting point: 98, Iteration number: 24, Palindrome: 8813200023188\n",
      "Starting point: 99, Iteration number: 6, Palindrome: 79497\n",
      "Starting point: 100, Iteration number: 1, Palindrome: 101\n",
      "Starting point: 101, Iteration number: 1, Palindrome: 202\n",
      "Starting point: 102, Iteration number: 1, Palindrome: 303\n",
      "Starting point: 103, Iteration number: 1, Palindrome: 404\n",
      "Starting point: 104, Iteration number: 1, Palindrome: 505\n",
      "Starting point: 105, Iteration number: 1, Palindrome: 606\n",
      "Starting point: 106, Iteration number: 1, Palindrome: 707\n",
      "Starting point: 107, Iteration number: 1, Palindrome: 808\n",
      "Starting point: 108, Iteration number: 1, Palindrome: 909\n",
      "Starting point: 109, Iteration number: 2, Palindrome: 1111\n",
      "Starting point: 110, Iteration number: 1, Palindrome: 121\n",
      "Starting point: 111, Iteration number: 1, Palindrome: 222\n",
      "Starting point: 112, Iteration number: 1, Palindrome: 323\n",
      "Starting point: 113, Iteration number: 1, Palindrome: 424\n",
      "Starting point: 114, Iteration number: 1, Palindrome: 525\n",
      "Starting point: 115, Iteration number: 1, Palindrome: 626\n",
      "Starting point: 116, Iteration number: 1, Palindrome: 727\n",
      "Starting point: 117, Iteration number: 1, Palindrome: 828\n",
      "Starting point: 118, Iteration number: 1, Palindrome: 929\n",
      "Starting point: 119, Iteration number: 2, Palindrome: 1331\n",
      "Starting point: 120, Iteration number: 1, Palindrome: 141\n",
      "Starting point: 121, Iteration number: 1, Palindrome: 242\n",
      "Starting point: 122, Iteration number: 1, Palindrome: 343\n",
      "Starting point: 123, Iteration number: 1, Palindrome: 444\n",
      "Starting point: 124, Iteration number: 1, Palindrome: 545\n",
      "Starting point: 125, Iteration number: 1, Palindrome: 646\n",
      "Starting point: 126, Iteration number: 1, Palindrome: 747\n",
      "Starting point: 127, Iteration number: 1, Palindrome: 848\n",
      "Starting point: 128, Iteration number: 1, Palindrome: 949\n",
      "Starting point: 129, Iteration number: 2, Palindrome: 1551\n",
      "Starting point: 130, Iteration number: 1, Palindrome: 161\n",
      "Starting point: 131, Iteration number: 1, Palindrome: 262\n",
      "Starting point: 132, Iteration number: 1, Palindrome: 363\n",
      "Starting point: 133, Iteration number: 1, Palindrome: 464\n",
      "Starting point: 134, Iteration number: 1, Palindrome: 565\n",
      "Starting point: 135, Iteration number: 1, Palindrome: 666\n",
      "Starting point: 136, Iteration number: 1, Palindrome: 767\n",
      "Starting point: 137, Iteration number: 1, Palindrome: 868\n",
      "Starting point: 138, Iteration number: 1, Palindrome: 969\n",
      "Starting point: 139, Iteration number: 2, Palindrome: 1771\n",
      "Starting point: 140, Iteration number: 1, Palindrome: 181\n",
      "Starting point: 141, Iteration number: 1, Palindrome: 282\n",
      "Starting point: 142, Iteration number: 1, Palindrome: 383\n",
      "Starting point: 143, Iteration number: 1, Palindrome: 484\n",
      "Starting point: 144, Iteration number: 1, Palindrome: 585\n",
      "Starting point: 145, Iteration number: 1, Palindrome: 686\n",
      "Starting point: 146, Iteration number: 1, Palindrome: 787\n",
      "Starting point: 147, Iteration number: 1, Palindrome: 888\n",
      "Starting point: 148, Iteration number: 1, Palindrome: 989\n",
      "Starting point: 149, Iteration number: 2, Palindrome: 1991\n",
      "Starting point: 150, Iteration number: 2, Palindrome: 303\n",
      "Starting point: 151, Iteration number: 2, Palindrome: 505\n",
      "Starting point: 152, Iteration number: 2, Palindrome: 707\n",
      "Starting point: 153, Iteration number: 2, Palindrome: 909\n",
      "Starting point: 154, Iteration number: 2, Palindrome: 1111\n",
      "Starting point: 155, Iteration number: 3, Palindrome: 4444\n",
      "Starting point: 156, Iteration number: 3, Palindrome: 6666\n",
      "Starting point: 157, Iteration number: 3, Palindrome: 8888\n",
      "Starting point: 158, Iteration number: 3, Palindrome: 11011\n",
      "Starting point: 159, Iteration number: 2, Palindrome: 1221\n",
      "Starting point: 160, Iteration number: 2, Palindrome: 343\n",
      "Starting point: 161, Iteration number: 2, Palindrome: 545\n",
      "Starting point: 162, Iteration number: 2, Palindrome: 747\n",
      "Starting point: 163, Iteration number: 2, Palindrome: 949\n",
      "Starting point: 164, Iteration number: 3, Palindrome: 2662\n",
      "Starting point: 165, Iteration number: 3, Palindrome: 4884\n",
      "Starting point: 166, Iteration number: 5, Palindrome: 45254\n",
      "Starting point: 167, Iteration number: 11, Palindrome: 88555588\n",
      "Starting point: 168, Iteration number: 3, Palindrome: 13431\n",
      "Starting point: 169, Iteration number: 2, Palindrome: 1441\n",
      "Starting point: 170, Iteration number: 2, Palindrome: 383\n",
      "Starting point: 171, Iteration number: 2, Palindrome: 585\n",
      "Starting point: 172, Iteration number: 2, Palindrome: 787\n",
      "Starting point: 173, Iteration number: 2, Palindrome: 989\n",
      "Starting point: 174, Iteration number: 4, Palindrome: 5115\n",
      "Starting point: 175, Iteration number: 4, Palindrome: 9559\n",
      "Starting point: 176, Iteration number: 5, Palindrome: 44044\n",
      "Starting point: 177, Iteration number: 15, Palindrome: 8836886388\n",
      "Starting point: 178, Iteration number: 3, Palindrome: 15851\n",
      "Starting point: 179, Iteration number: 2, Palindrome: 1661\n",
      "Starting point: 180, Iteration number: 3, Palindrome: 747\n",
      "Starting point: 181, Iteration number: 4, Palindrome: 2662\n",
      "Starting point: 182, Iteration number: 6, Palindrome: 45254\n",
      "Starting point: 183, Iteration number: 4, Palindrome: 13431\n",
      "Starting point: 184, Iteration number: 3, Palindrome: 2552\n",
      "Starting point: 185, Iteration number: 3, Palindrome: 4774\n",
      "Starting point: 186, Iteration number: 3, Palindrome: 6996\n",
      "Starting point: 187, Iteration number: 23, Palindrome: 8813200023188\n",
      "Starting point: 188, Iteration number: 7, Palindrome: 233332\n",
      "Starting point: 189, Iteration number: 2, Palindrome: 1881\n",
      "Starting point: 190, Iteration number: 7, Palindrome: 45254\n",
      "Starting point: 191, Iteration number: 4, Palindrome: 2552\n",
      "Starting point: 192, Iteration number: 4, Palindrome: 6996\n",
      "Starting point: 193, Iteration number: 8, Palindrome: 233332\n",
      "Starting point: 194, Iteration number: 3, Palindrome: 2992\n",
      "Starting point: 195, Iteration number: 4, Palindrome: 9339\n",
      "FAILED. Starting point 196, Last iterated sum: 353466443924136897858377144029121143628590980834140834402086145040599291832845719034956387168795800463971545914548326676428378028814710683108505496412733883652599320082374934620554240912515790120016687692352197776621010107415220132544026439582289914006246477437313605494900387117318730883824675524836409655069474008586970693559441817449338082995150442581194537942329079105826441012030342772858788740429334664452\n",
      "Starting point: 197, Iteration number: 7, Palindrome: 881188\n",
      "Starting point: 198, Iteration number: 5, Palindrome: 79497\n",
      "Starting point: 199, Iteration number: 3, Palindrome: 3113\n",
      "Starting point: 200, Iteration number: 1, Palindrome: 202\n"
     ]
    }
   ],
   "source": [
    "findPalindrome(200,1000)"
   ]
  },
  {
   "cell_type": "markdown",
   "metadata": {},
   "source": [
    "# Zadanie 4"
   ]
  },
  {
   "cell_type": "markdown",
   "metadata": {},
   "source": [
    "**Opis zadania**\n",
    "\n",
    "Metoda Sita Eratostenesa. Ze zbioru liczb naturalnych z przedziału [2,n], wybieramy najmniejszą, czyli 2, i wykreślamy wszystkie jej wielokrotności większe od niej samej. Z pozostałych liczb wybieramy najmniejszą niewykreśloną liczbę (3) i usuwamy wszystkie jej wielokrotności większe od niej samej. Według tej samej procedury postępujemy dla kolejnych liczb. Proces ten pozostawia nieskreślone wyłącznie liczby pierwsze. Proszę napisać program wyszukujący liczby pierwsze w zadanym zakresie."
   ]
  },
  {
   "cell_type": "markdown",
   "metadata": {},
   "source": [
    "**Opis rozwiązania:**\n",
    "\n",
    "Algorytm składa się z dwóch zagnieżdżonych pętli ```for```. Pętle wewnętrzna wyszukuje wielokrotności liczb (zaczynając od 2) i umieszcza je w tablicy liczb odrzuconych ```reject_list```. Pętla zewnętrzna umieszcza liczby nie znajdujące się w tablicy ```reject_list```. Są to poszukiwane liczby pierwsze."
   ]
  },
  {
   "cell_type": "code",
   "execution_count": 7,
   "metadata": {
    "collapsed": true
   },
   "outputs": [],
   "source": [
    "def sito_liczby_pierwsze(n):\n",
    "    #Definicja pustej tablicy do przechowywania liczb pierwszych\n",
    "    prime_list = []\n",
    "    #Definicja pustej tablicy do przechowywania odrzutów\n",
    "    reject_list=[]\n",
    "    for i in range(2, n+1):\n",
    "        if i not in reject_list:\n",
    "            prime_list.append(i)\n",
    "            for j in range(i*i, n+1, i):\n",
    "                reject_list.append(j)\n",
    "    return prime_list"
   ]
  },
  {
   "cell_type": "markdown",
   "metadata": {},
   "source": [
    "**Przyładowy output:** Liczby pierwsze dla zakresu od 2 do 100."
   ]
  },
  {
   "cell_type": "code",
   "execution_count": 9,
   "metadata": {
    "collapsed": false
   },
   "outputs": [
    {
     "name": "stdout",
     "output_type": "stream",
     "text": [
      "Liczby pierwsze:  [2, 3, 5, 7, 11, 13, 17, 19, 23, 29, 31, 37, 41, 43, 47, 53, 59, 61, 67, 71, 73, 79, 83, 89, 97]\n"
     ]
    }
   ],
   "source": [
    "print(\"Liczby pierwsze: \",sito_liczby_pierwsze(100))"
   ]
  },
  {
   "cell_type": "markdown",
   "metadata": {},
   "source": [
    "# Zadanie 5"
   ]
  },
  {
   "cell_type": "markdown",
   "metadata": {},
   "source": [
    "**Opis zadania**\n",
    "\n",
    "Proszę napisać program, który wczytuje tekst i wypisuje 20 najczęściej występujących słów. Proszę podać wyniki dla tekstu „Pana Tadeusza”."
   ]
  },
  {
   "cell_type": "code",
   "execution_count": null,
   "metadata": {
    "collapsed": false
   },
   "outputs": [],
   "source": [
    "def readFile():\n",
    "    file = open(\"C:\\\\Users\\\\w18154\\\\Desktop\\\\Python\\\\algorytmika\\\\Algorytmika\\\\PanTadeusz.txt\",encoding=\"utf8\")\n",
    "    return file\n",
    "#end def\n",
    "    \n",
    "    \n",
    "def stringSplit(file):\n",
    "    word_list=[]\n",
    "    for line in file:\n",
    "        line=line.lower()\n",
    "        line=re.sub(\"[!@#$%^&*()?><,./;'\"\"]+\",' ', line)\n",
    "        line=line.split()\n",
    " #       re.split(r'[`\\-=~!@#$%^&*()_+\\[\\]{};\\'\\\\:\"|<,./<>?]',line)\n",
    " #       re.split(\"!\",line)        \n",
    "        for word in line:\n",
    "#            if word.isalpha():\n",
    "            word_list.append(word)\n",
    "    return word_list\n",
    "#end def\n",
    "    \n",
    "a=stringSplit(readFile())  \n",
    "frequency={}  \n",
    "for word in a:\n",
    "    count = frequency.get(word,0)\n",
    "    frequency[word] = count + 1\n",
    "\n",
    "frequency_list=frequency.keys()\n",
    "\n",
    "\n",
    "     \n",
    "\n",
    "for words in frequency_list:\n",
    "    print (words, frequency[words])"
   ]
  },
  {
   "cell_type": "code",
   "execution_count": null,
   "metadata": {
    "collapsed": true
   },
   "outputs": [],
   "source": []
  }
 ],
 "metadata": {
  "kernelspec": {
   "display_name": "Python 3",
   "language": "python",
   "name": "python3"
  },
  "language_info": {
   "codemirror_mode": {
    "name": "ipython",
    "version": 3
   },
   "file_extension": ".py",
   "mimetype": "text/x-python",
   "name": "python",
   "nbconvert_exporter": "python",
   "pygments_lexer": "ipython3",
   "version": "3.5.1"
  }
 },
 "nbformat": 4,
 "nbformat_minor": 2
}
