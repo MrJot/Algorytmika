{
 "cells": [
  {
   "cell_type": "markdown",
   "metadata": {},
   "source": [
    "# Zadanie 1"
   ]
  },
  {
   "cell_type": "code",
   "execution_count": 16,
   "metadata": {},
   "outputs": [
    {
     "name": "stdout",
     "output_type": "stream",
     "text": [
      "Program rozwiazujacy uklad rownan w postaci:\n",
      "Ax + By = C\n",
      "Dx + Ey = F\n",
      "Równanie ma jedno rozwiązanie\n",
      "[2. 1.]\n"
     ]
    }
   ],
   "source": [
    "import math\n",
    "import numpy as np\n",
    "print(\"Program rozwiazujacy uklad rownan w postaci:\\nAx + By = C\\nDx + Ey = F\")\n",
    "#A=input(\"Podaj A= \")\n",
    "#B=input(\"Podaj B= \")\n",
    "#C=input(\"Podaj C= \")\n",
    "#D=input(\"Podaj D= \")\n",
    "#E=input(\"Podaj E= \")\n",
    "#F=input(\"Podaj F= \")\n",
    "A=1\n",
    "B=1\n",
    "C=3\n",
    "D=1\n",
    "E=-1\n",
    "F=1\n",
    "a = np.array([[A, B],[D,E]])\n",
    "a_uzup=np.array([[A, B,C],[D,E,F]])\n",
    "b = np.array([C, F])\n",
    "if np.linalg.matrix_rank(a)==np.linalg.matrix_rank(a_uzup)==2:\n",
    "    print(\"Równanie ma jedno rozwiązanie\")\n",
    "    sol=(np.linalg.solve(a,b))\n",
    "    print(sol)\n",
    "elif np.linalg.matrix_rank(a)==np.linalg.matrix_rank(a_uzup)<2:\n",
    "    print(\"Układ ma nieskończenie wiele rozwiązań\")\n",
    "else:\n",
    "    print(\"Układ równań jest układem sprzecznym\")\n"
   ]
  },
  {
   "cell_type": "code",
   "execution_count": null,
   "metadata": {},
   "outputs": [],
   "source": []
  }
 ],
 "metadata": {
  "kernelspec": {
   "display_name": "Python 3",
   "language": "python",
   "name": "python3"
  },
  "language_info": {
   "codemirror_mode": {
    "name": "ipython",
    "version": 3
   },
   "file_extension": ".py",
   "mimetype": "text/x-python",
   "name": "python",
   "nbconvert_exporter": "python",
   "pygments_lexer": "ipython3",
   "version": "3.6.4"
  }
 },
 "nbformat": 4,
 "nbformat_minor": 2
}
