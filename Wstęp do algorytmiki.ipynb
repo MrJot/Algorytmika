{
 "cells": [
  {
   "cell_type": "markdown",
   "metadata": {},
   "source": [
    "# Zadanie 1"
   ]
  },
  {
   "cell_type": "markdown",
   "metadata": {},
   "source": [
    "**Opis Zadania**\n",
    "\n",
    "Proszę napisad program rozwiązujący układ równań: \n",
    "Ax+By=C\n",
    "Dx+Ey=F\n",
    "\n",
    "Współczynniki A,B,C,D,E,F należy prowadzid z klawiatury.\n",
    "Program powinien uwzględnid przypadki układu nieoznaczonego i sprzecznego."
   ]
  },
  {
   "cell_type": "markdown",
   "metadata": {},
   "source": [
    "**Opis rozwiązania**\n",
    "\n",
    "Rozwiązanie opiera się o rachunek macierzowy.\n",
    "Warunki rozwiązania w oparciu o informację na temat rzędu macierzy\n",
    "```python\n",
    "if rzad_macierzy_glownej == rzad_macierzy_rozszerzonej==liczba_niewiadomych:\n",
    "    Rownanie ma jedno rozwiazanie\n",
    "elif rzad_macierzy_glownej == rzad_macierzy_rozszerzonej<liczba_niewiadomych:\n",
    "    Równanie ma nieskończenie wiele rozwiązań\n",
    "else\n",
    "    Rówananie jest równaniem sprzecznym\n",
    "```"
   ]
  },
  {
   "cell_type": "code",
   "execution_count": 46,
   "metadata": {
    "collapsed": true
   },
   "outputs": [],
   "source": [
    "import math\n",
    "import numpy as np\n",
    "def LinearEquations():\n",
    "    print(\"Program rozwiazujacy uklad rownan w postaci:\\nAx + By = C\\nDx + Ey = F\")\n",
    "    A=float(input(\"Podaj A= \"))\n",
    "    B=float(input(\"Podaj B= \"))\n",
    "    C=float(input(\"Podaj C= \"))\n",
    "    D=float(input(\"Podaj D= \"))\n",
    "    E=float(input(\"Podaj E= \"))\n",
    "    F=float(input(\"Podaj F= \"))\n",
    "    #Obliczenie rzędu macierzy głownej\n",
    "    a = np.array([[A, B],[D,E]])\n",
    "    #Obliczenie rzędu macierzy rozszerzonej\n",
    "    a_uzup=np.array([[A,B,C],[D,E,F]])\n",
    "    b = np.array([C, F])\n",
    "    if np.linalg.matrix_rank(a)==np.linalg.matrix_rank(a_uzup)==2:\n",
    "        print(\"Równanie ma jedno rozwiązanie\")\n",
    "        sol=(np.linalg.solve(a,b))\n",
    "        print('x = %5.2f , y = %5.2f' % (sol[0], sol[1]))\n",
    "    elif np.linalg.matrix_rank(a)==np.linalg.matrix_rank(a_uzup)<2:\n",
    "        print(\"Układ ma nieskończenie wiele rozwiązań\")\n",
    "    else:\n",
    "        print(\"Układ równań jest układem sprzecznym\")\n",
    "    return"
   ]
  },
  {
   "cell_type": "markdown",
   "metadata": {},
   "source": [
    "Przykład: Układ ma dokładnie jedno rozwiązanie."
   ]
  },
  {
   "cell_type": "code",
   "execution_count": 50,
   "metadata": {},
   "outputs": [
    {
     "name": "stdout",
     "output_type": "stream",
     "text": [
      "Program rozwiazujacy uklad rownan w postaci:\n",
      "Ax + By = C\n",
      "Dx + Ey = F\n",
      "Podaj A= 1\n",
      "Podaj B= 1\n",
      "Podaj C= 3\n",
      "Podaj D= 1\n",
      "Podaj E= 2\n",
      "Podaj F= 4\n",
      "Równanie ma jedno rozwiązanie\n",
      "x =  2.00 , y =  1.00\n"
     ]
    }
   ],
   "source": [
    "LinearEquations()"
   ]
  },
  {
   "cell_type": "markdown",
   "metadata": {},
   "source": [
    "Przykład: Układ ma nieskończenie wiele rozwiązań"
   ]
  },
  {
   "cell_type": "code",
   "execution_count": 51,
   "metadata": {},
   "outputs": [
    {
     "name": "stdout",
     "output_type": "stream",
     "text": [
      "Program rozwiazujacy uklad rownan w postaci:\n",
      "Ax + By = C\n",
      "Dx + Ey = F\n",
      "Podaj A= 2\n",
      "Podaj B= 1\n",
      "Podaj C= 3\n",
      "Podaj D= 2\n",
      "Podaj E= 1\n",
      "Podaj F= 3\n",
      "Układ ma nieskończenie wiele rozwiązań\n"
     ]
    }
   ],
   "source": [
    "LinearEquations()"
   ]
  },
  {
   "cell_type": "markdown",
   "metadata": {},
   "source": [
    "Przykład: Układ jest układem sprzecznym"
   ]
  },
  {
   "cell_type": "code",
   "execution_count": 52,
   "metadata": {},
   "outputs": [
    {
     "name": "stdout",
     "output_type": "stream",
     "text": [
      "Program rozwiazujacy uklad rownan w postaci:\n",
      "Ax + By = C\n",
      "Dx + Ey = F\n",
      "Podaj A= 2\n",
      "Podaj B= 1\n",
      "Podaj C= 3\n",
      "Podaj D= 2\n",
      "Podaj E= 1\n",
      "Podaj F= 5\n",
      "Układ równań jest układem sprzecznym\n"
     ]
    }
   ],
   "source": [
    "LinearEquations()"
   ]
  },
  {
   "cell_type": "markdown",
   "metadata": {},
   "source": [
    "# Zadanie 2"
   ]
  },
  {
   "cell_type": "markdown",
   "metadata": {},
   "source": [
    "**Opis Zadania**\n",
    "\n",
    "Liczby Armstronga to N-cyfrowa liczba naturalna która jest sumą swoich cyfr podniesionych do potęgi N. \n",
    "\n",
    "Na przykład: 153 = $1^3$+$5^3$+$3^3$. \n",
    "\n",
    "Proszę napisać program znajdujący jak najwięcej takich liczb."
   ]
  },
  {
   "cell_type": "markdown",
   "metadata": {},
   "source": [
    "**Opis rozwiązania**\n",
    "\n",
    "Komentarze w kodzie programu\n"
   ]
  },
  {
   "cell_type": "code",
   "execution_count": 52,
   "metadata": {},
   "outputs": [],
   "source": [
    "def ArmstrongNum(num):\n",
    "    #Inicjalizacja tabeli wyników\n",
    "    res_table=[]\n",
    "    for num in range(1, num + 1):\n",
    "        #Obliczenie wartości potęgi (długość stringa; liczba rzutowana na string)\n",
    "        order = len(str(num))\n",
    "        #Inicjalizacja wartości sumy\n",
    "        sum = 0\n",
    "        temp = num\n",
    "        while temp > 0:\n",
    "            digit = temp % 10\n",
    "            sum =sum+digit ** order\n",
    "            temp =temp//10\n",
    "        if num == sum:\n",
    "            res_table.append(num)\n",
    "    return print(\"Liczby Armstronga: \",res_table)"
   ]
  },
  {
   "cell_type": "code",
   "execution_count": 53,
   "metadata": {},
   "outputs": [
    {
     "name": "stdout",
     "output_type": "stream",
     "text": [
      "Liczby Armstronga:  [1, 2, 3, 4, 5, 6, 7, 8, 9, 153, 370, 371, 407]\n"
     ]
    }
   ],
   "source": [
    "ArmstrongNum(1000)"
   ]
  },
  {
   "cell_type": "markdown",
   "metadata": {},
   "source": [
    "# Zadanie 3"
   ]
  },
  {
   "cell_type": "markdown",
   "metadata": {},
   "source": [
    "**Opis zadania**\n",
    "\n",
    "Palindrom to coś, co czyta się tak samo od przodu i od tyłu. Hipoteza: weź dowolną liczbę naturalną. Jeżeli nie jest palindromem, to zapisz ją od tyłu i dodaj obie liczby. Jeżeli wynik nadal nie jest palindromem, kontynuuj, traktując go jako daną. Przerwij, gdy osiągniesz palindrom. Na przykład: 78+87=165, 165+561=726, 726+627=1353, 1353+3531=4884. Napisz program sprawdzający hipotezę dla pierwszych 200 liczb naturalnych jako startowych. Czy zawsze osiągniemy palindrom?"
   ]
  },
  {
   "cell_type": "code",
   "execution_count": 85,
   "metadata": {},
   "outputs": [],
   "source": [
    "def Palindrom(num):\n",
    "    sum=0\n",
    "    for x in range(10,num+1):\n",
    "        rev=str(x)[::-1]\n",
    "        if x != int(rev):\n",
    "            sum=x+rev      \n",
    "    return"
   ]
  },
  {
   "cell_type": "code",
   "execution_count": 86,
   "metadata": {},
   "outputs": [
    {
     "ename": "TypeError",
     "evalue": "unsupported operand type(s) for +: 'int' and 'str'",
     "output_type": "error",
     "traceback": [
      "\u001b[0;31m---------------------------------------------------------------------------\u001b[0m",
      "\u001b[0;31mTypeError\u001b[0m                                 Traceback (most recent call last)",
      "\u001b[0;32m<ipython-input-86-cbdb69a7b0e8>\u001b[0m in \u001b[0;36m<module>\u001b[0;34m()\u001b[0m\n\u001b[0;32m----> 1\u001b[0;31m \u001b[0mPalindrom\u001b[0m\u001b[0;34m(\u001b[0m\u001b[0;36m100\u001b[0m\u001b[0;34m)\u001b[0m\u001b[0;34m\u001b[0m\u001b[0m\n\u001b[0m",
      "\u001b[0;32m<ipython-input-85-d261d765c39f>\u001b[0m in \u001b[0;36mPalindrom\u001b[0;34m(num)\u001b[0m\n\u001b[1;32m      4\u001b[0m         \u001b[0mrev\u001b[0m\u001b[0;34m=\u001b[0m\u001b[0mstr\u001b[0m\u001b[0;34m(\u001b[0m\u001b[0mx\u001b[0m\u001b[0;34m)\u001b[0m\u001b[0;34m[\u001b[0m\u001b[0;34m:\u001b[0m\u001b[0;34m:\u001b[0m\u001b[0;34m-\u001b[0m\u001b[0;36m1\u001b[0m\u001b[0;34m]\u001b[0m\u001b[0;34m\u001b[0m\u001b[0m\n\u001b[1;32m      5\u001b[0m         \u001b[0;32mif\u001b[0m \u001b[0mx\u001b[0m \u001b[0;34m!=\u001b[0m \u001b[0mint\u001b[0m\u001b[0;34m(\u001b[0m\u001b[0mrev\u001b[0m\u001b[0;34m)\u001b[0m\u001b[0;34m:\u001b[0m\u001b[0;34m\u001b[0m\u001b[0m\n\u001b[0;32m----> 6\u001b[0;31m             \u001b[0msum\u001b[0m\u001b[0;34m=\u001b[0m\u001b[0mx\u001b[0m\u001b[0;34m+\u001b[0m\u001b[0mrev\u001b[0m\u001b[0;34m\u001b[0m\u001b[0m\n\u001b[0m\u001b[1;32m      7\u001b[0m     \u001b[0;32mreturn\u001b[0m\u001b[0;34m\u001b[0m\u001b[0m\n",
      "\u001b[0;31mTypeError\u001b[0m: unsupported operand type(s) for +: 'int' and 'str'"
     ]
    }
   ],
   "source": [
    "Palindrom(100)"
   ]
  },
  {
   "cell_type": "code",
   "execution_count": null,
   "metadata": {},
   "outputs": [],
   "source": []
  }
 ],
 "metadata": {
  "kernelspec": {
   "display_name": "Python 3",
   "language": "python",
   "name": "python3"
  }
 },
 "nbformat": 4,
 "nbformat_minor": 2
}
