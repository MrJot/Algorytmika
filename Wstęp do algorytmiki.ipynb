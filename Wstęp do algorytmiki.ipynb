{
 "cells": [
  {
   "cell_type": "markdown",
   "metadata": {},
   "source": [
    "# Zadanie 1"
   ]
  },
  {
   "cell_type": "markdown",
   "metadata": {},
   "source": [
    "**Opis Zadania**\n",
    "\n",
    "Proszę napisad program rozwiązujący układ równań: \n",
    "Ax+By=C\n",
    "Dx+Ey=F\n",
    "\n",
    "Współczynniki A,B,C,D,E,F należy prowadzid z klawiatury.\n",
    "Program powinien uwzględnid przypadki układu nieoznaczonego i sprzecznego."
   ]
  },
  {
   "cell_type": "markdown",
   "metadata": {},
   "source": [
    "**Opis rozwiązania**\n",
    "\n",
    "Rozwiązanie opiera się o rachunek macierzowy.\n",
    "```python\n",
    "if rzad_macierzy_glownej == rzad_macierzy_rozszerzonej==liczba_niewiadomych:\n",
    "    Rownanie ma jedno rozwiazanie\n",
    "elif rzad_macierzy_glownej == rzad_macierzy_rozszerzonej<liczba_niewiadomych:\n",
    "    Równanie ma nieskończenie wiele rozwiązań\n",
    "else\n",
    "    Rówannanie jest równaniem sprzecznym\n",
    "```"
   ]
  },
  {
   "cell_type": "code",
   "execution_count": 46,
   "metadata": {
    "collapsed": true
   },
   "outputs": [],
   "source": [
    "import math\n",
    "import numpy as np\n",
    "def LinearEquations():\n",
    "    print(\"Program rozwiazujacy uklad rownan w postaci:\\nAx + By = C\\nDx + Ey = F\")\n",
    "    A=float(input(\"Podaj A= \"))\n",
    "    B=float(input(\"Podaj B= \"))\n",
    "    C=float(input(\"Podaj C= \"))\n",
    "    D=float(input(\"Podaj D= \"))\n",
    "    E=float(input(\"Podaj E= \"))\n",
    "    F=float(input(\"Podaj F= \"))\n",
    "    #Obliczenie rzędu macierzy głownej\n",
    "    a = np.array([[A, B],[D,E]])\n",
    "    #Obliczenie rzędu macierzy rozszerzonej\n",
    "    a_uzup=np.array([[A,B,C],[D,E,F]])\n",
    "    b = np.array([C, F])\n",
    "    if np.linalg.matrix_rank(a)==np.linalg.matrix_rank(a_uzup)==2:\n",
    "        print(\"Równanie ma jedno rozwiązanie\")\n",
    "        sol=(np.linalg.solve(a,b))\n",
    "        print('x = %5.2f , y = %5.2f' % (sol[0], sol[1]))\n",
    "    elif np.linalg.matrix_rank(a)==np.linalg.matrix_rank(a_uzup)<2:\n",
    "        print(\"Układ ma nieskończenie wiele rozwiązań\")\n",
    "    else:\n",
    "        print(\"Układ równań jest układem sprzecznym\")\n",
    "    return"
   ]
  },
  {
   "cell_type": "markdown",
   "metadata": {},
   "source": [
    "Przykład: Układ ma dokładnie jedno rozwiązanie."
   ]
  },
  {
   "cell_type": "code",
   "execution_count": 50,
   "metadata": {
    "collapsed": false
   },
   "outputs": [
    {
     "name": "stdout",
     "output_type": "stream",
     "text": [
      "Program rozwiazujacy uklad rownan w postaci:\n",
      "Ax + By = C\n",
      "Dx + Ey = F\n",
      "Podaj A= 1\n",
      "Podaj B= 1\n",
      "Podaj C= 3\n",
      "Podaj D= 1\n",
      "Podaj E= 2\n",
      "Podaj F= 4\n",
      "Równanie ma jedno rozwiązanie\n",
      "x =  2.00 , y =  1.00\n"
     ]
    }
   ],
   "source": [
    "LinearEquations()"
   ]
  },
  {
   "cell_type": "markdown",
   "metadata": {},
   "source": [
    "Przykład: Układ ma nieskończenie wiele rozwiązań"
   ]
  },
  {
   "cell_type": "code",
   "execution_count": 51,
   "metadata": {
    "collapsed": false
   },
   "outputs": [
    {
     "name": "stdout",
     "output_type": "stream",
     "text": [
      "Program rozwiazujacy uklad rownan w postaci:\n",
      "Ax + By = C\n",
      "Dx + Ey = F\n",
      "Podaj A= 2\n",
      "Podaj B= 1\n",
      "Podaj C= 3\n",
      "Podaj D= 2\n",
      "Podaj E= 1\n",
      "Podaj F= 3\n",
      "Układ ma nieskończenie wiele rozwiązań\n"
     ]
    }
   ],
   "source": [
    "LinearEquations()"
   ]
  },
  {
   "cell_type": "markdown",
   "metadata": {},
   "source": [
    "Przykład: Układ jest układem sprzecznym"
   ]
  },
  {
   "cell_type": "code",
   "execution_count": 52,
   "metadata": {
    "collapsed": false
   },
   "outputs": [
    {
     "name": "stdout",
     "output_type": "stream",
     "text": [
      "Program rozwiazujacy uklad rownan w postaci:\n",
      "Ax + By = C\n",
      "Dx + Ey = F\n",
      "Podaj A= 2\n",
      "Podaj B= 1\n",
      "Podaj C= 3\n",
      "Podaj D= 2\n",
      "Podaj E= 1\n",
      "Podaj F= 5\n",
      "Układ równań jest układem sprzecznym\n"
     ]
    }
   ],
   "source": [
    "LinearEquations()"
   ]
  },
  {
   "cell_type": "markdown",
   "metadata": {},
   "source": [
    "# Zadanie 2"
   ]
  },
  {
   "cell_type": "markdown",
   "metadata": {},
   "source": [
    "**Opis Zadania**\n",
    "\n",
    "Liczby Armstronga to N-cyfrowa liczba naturalna która jest sumą swoich cyfr podniesionych do potęgi N. \n",
    "\n",
    "Na przykład: 153 = 13+53+33. \n",
    "\n",
    "Proszę napisad program znajdujący jak najwięcej takich liczb."
   ]
  },
  {
   "cell_type": "code",
   "execution_count": null,
   "metadata": {
    "collapsed": true
   },
   "outputs": [],
   "source": []
  }
 ],
 "metadata": {
  "kernelspec": {
   "display_name": "Python 3",
   "language": "python",
   "name": "python3"
  },
  "language_info": {
   "codemirror_mode": {
    "name": "ipython",
    "version": 3
   },
   "file_extension": ".py",
   "mimetype": "text/x-python",
   "name": "python",
   "nbconvert_exporter": "python",
   "pygments_lexer": "ipython3",
   "version": "3.5.1"
  }
 },
 "nbformat": 4,
 "nbformat_minor": 2
}
